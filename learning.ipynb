{
 "cells": [
  {
   "metadata": {
    "ExecuteTime": {
     "end_time": "2024-05-22T22:44:36.697704Z",
     "start_time": "2024-05-22T22:44:36.690088Z"
    }
   },
   "cell_type": "code",
   "source": [
    "import pandas as pd\n",
    "import numpy as np\n",
    "\n",
    "amrob2 = pd.read_csv(\"C:/Users/sirim/Downloads/amrob2.csv\")\n",
    "# import csv"
   ],
   "id": "e5990b8f3a7612e3",
   "outputs": [],
   "execution_count": 21
  },
  {
   "metadata": {},
   "cell_type": "markdown",
   "source": [
    "*pause* \\\n",
    "trying example of extract based on string"
   ],
   "id": "6e7f780cd78d3d3"
  },
  {
   "metadata": {
    "ExecuteTime": {
     "end_time": "2024-05-22T22:54:37.601302Z",
     "start_time": "2024-05-22T22:54:37.586287Z"
    }
   },
   "cell_type": "code",
   "source": [
    "data = [['weight:10', 'robin', 'length = 2'],['mass:9', 'tarsus', 'length = 5'], ['total length = 1.5', 'Weight: 10.5', 'american']]\n",
    "df = pd.DataFrame(data, columns = ['1','2','3'])\n",
    "print(df)\n",
    "# made sample data frame\n",
    "N = 3\n",
    "pd.concat([df.iloc[np.arange(i,len(df),N)].reset_index(drop=True) for i in range(N)], axis=1)\n",
    "# saved result as Out_34.csv in Downloads"
   ],
   "id": "a0b9f118699e9aca",
   "outputs": [
    {
     "name": "stdout",
     "output_type": "stream",
     "text": [
      "                    1             2           3\n",
      "0           weight:10         robin  length = 2\n",
      "1              mass:9        tarsus  length = 5\n",
      "2  total length = 1.5  Weight: 10.5    american\n"
     ]
    },
    {
     "data": {
      "text/plain": [
       "           1      2           3       1       2           3  \\\n",
       "0  weight:10  robin  length = 2  mass:9  tarsus  length = 5   \n",
       "\n",
       "                    1             2         3  \n",
       "0  total length = 1.5  Weight: 10.5  american  "
      ],
      "text/html": [
       "<div>\n",
       "<style scoped>\n",
       "    .dataframe tbody tr th:only-of-type {\n",
       "        vertical-align: middle;\n",
       "    }\n",
       "\n",
       "    .dataframe tbody tr th {\n",
       "        vertical-align: top;\n",
       "    }\n",
       "\n",
       "    .dataframe thead th {\n",
       "        text-align: right;\n",
       "    }\n",
       "</style>\n",
       "<table border=\"1\" class=\"dataframe\">\n",
       "  <thead>\n",
       "    <tr style=\"text-align: right;\">\n",
       "      <th></th>\n",
       "      <th>1</th>\n",
       "      <th>2</th>\n",
       "      <th>3</th>\n",
       "      <th>1</th>\n",
       "      <th>2</th>\n",
       "      <th>3</th>\n",
       "      <th>1</th>\n",
       "      <th>2</th>\n",
       "      <th>3</th>\n",
       "    </tr>\n",
       "  </thead>\n",
       "  <tbody>\n",
       "    <tr>\n",
       "      <th>0</th>\n",
       "      <td>weight:10</td>\n",
       "      <td>robin</td>\n",
       "      <td>length = 2</td>\n",
       "      <td>mass:9</td>\n",
       "      <td>tarsus</td>\n",
       "      <td>length = 5</td>\n",
       "      <td>total length = 1.5</td>\n",
       "      <td>Weight: 10.5</td>\n",
       "      <td>american</td>\n",
       "    </tr>\n",
       "  </tbody>\n",
       "</table>\n",
       "</div>"
      ]
     },
     "execution_count": 34,
     "metadata": {},
     "output_type": "execute_result"
    }
   ],
   "execution_count": 34
  },
  {
   "metadata": {},
   "cell_type": "markdown",
   "source": "trying to delete everything without weight/mass:",
   "id": "c75be037f0f0196"
  },
  {
   "metadata": {
    "ExecuteTime": {
     "end_time": "2024-05-22T23:43:56.018968Z",
     "start_time": "2024-05-22T23:43:56.012788Z"
    }
   },
   "cell_type": "code",
   "source": [
    "df2 = pd.read_csv(\"C:/Users/sirim/Downloads/Out_34.csv\")\n",
    "df2.columns=['Mass']\n",
    "df2"
   ],
   "id": "4a13e6716718ee85",
   "outputs": [],
   "execution_count": 72
  },
  {
   "metadata": {
    "ExecuteTime": {
     "end_time": "2024-05-22T23:49:10.153105Z",
     "start_time": "2024-05-22T23:49:10.145338Z"
    }
   },
   "cell_type": "code",
   "source": [
    "#succes:\n",
    "df3 = df2[df2['Mass'].str.contains('^Mass|mass|Weight|weight', na=False)]\n",
    "df3"
   ],
   "id": "e1f003a465d79f7e",
   "outputs": [
    {
     "data": {
      "text/plain": [
       "           Mass\n",
       "0     weight:10\n",
       "3        mass:9\n",
       "7  Weight: 10.5"
      ],
      "text/html": [
       "<div>\n",
       "<style scoped>\n",
       "    .dataframe tbody tr th:only-of-type {\n",
       "        vertical-align: middle;\n",
       "    }\n",
       "\n",
       "    .dataframe tbody tr th {\n",
       "        vertical-align: top;\n",
       "    }\n",
       "\n",
       "    .dataframe thead th {\n",
       "        text-align: right;\n",
       "    }\n",
       "</style>\n",
       "<table border=\"1\" class=\"dataframe\">\n",
       "  <thead>\n",
       "    <tr style=\"text-align: right;\">\n",
       "      <th></th>\n",
       "      <th>Mass</th>\n",
       "    </tr>\n",
       "  </thead>\n",
       "  <tbody>\n",
       "    <tr>\n",
       "      <th>0</th>\n",
       "      <td>weight:10</td>\n",
       "    </tr>\n",
       "    <tr>\n",
       "      <th>3</th>\n",
       "      <td>mass:9</td>\n",
       "    </tr>\n",
       "    <tr>\n",
       "      <th>7</th>\n",
       "      <td>Weight: 10.5</td>\n",
       "    </tr>\n",
       "  </tbody>\n",
       "</table>\n",
       "</div>"
      ]
     },
     "execution_count": 77,
     "metadata": {},
     "output_type": "execute_result"
    }
   ],
   "execution_count": 77
  },
  {
   "metadata": {},
   "cell_type": "markdown",
   "source": "resume",
   "id": "7094391884569690"
  }
 ],
 "metadata": {
  "kernelspec": {
   "display_name": "Python 3",
   "language": "python",
   "name": "python3"
  },
  "language_info": {
   "codemirror_mode": {
    "name": "ipython",
    "version": 2
   },
   "file_extension": ".py",
   "mimetype": "text/x-python",
   "name": "python",
   "nbconvert_exporter": "python",
   "pygments_lexer": "ipython2",
   "version": "2.7.6"
  }
 },
 "nbformat": 4,
 "nbformat_minor": 5
}
